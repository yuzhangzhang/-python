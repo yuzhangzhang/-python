{
 "cells": [
  {
   "cell_type": "markdown",
   "metadata": {},
   "source": [
    "# python编程基础——2、条件判断 & 循环 & 迭代"
   ]
  },
  {
   "cell_type": "markdown",
   "metadata": {},
   "source": [
    "## 条件判断 `if`"
   ]
  },
  {
   "cell_type": "markdown",
   "metadata": {},
   "source": [
    "***`if` 的语法（注意冒号，缩进以及执行顺序）：***\n",
    "``` python\n",
    "    if 条件 :\n",
    "        # some code\n",
    "    else:\n",
    "        # other code\n",
    "```"
   ]
  },
  {
   "cell_type": "markdown",
   "metadata": {},
   "source": [
    "- 例：判断一个数是否大于另一个数"
   ]
  },
  {
   "cell_type": "code",
   "execution_count": 1,
   "metadata": {},
   "outputs": [
    {
     "name": "stdout",
     "output_type": "stream",
     "text": [
      "第一个数小于或等于第二个数\n"
     ]
    }
   ],
   "source": [
    "num1, num2 = 3 , 5\n",
    "if num1 > num2:\n",
    "    print('第一个数是大于第二个数的')\n",
    "else:\n",
    "    print('第一个数小于或等于第二个数')"
   ]
  },
  {
   "cell_type": "markdown",
   "metadata": {},
   "source": [
    "- 例：判断是否是闰年"
   ]
  },
  {
   "cell_type": "code",
   "execution_count": 2,
   "metadata": {},
   "outputs": [
    {
     "name": "stdin",
     "output_type": "stream",
     "text": [
      "输入一个年份:  2005\n"
     ]
    },
    {
     "name": "stdout",
     "output_type": "stream",
     "text": [
      "2005 不是闰年\n"
     ]
    }
   ],
   "source": [
    "year = int(input(\"输入一个年份: \")) \n",
    "if (year % 4) == 0:\n",
    "    if (year % 100) == 0:\n",
    "        if (year % 400) == 0:\n",
    "            print(\"{0} 是闰年\".format(year))   # 整百年能被400整除的是闰年\n",
    "        else:\n",
    "            print(\"{0} 不是闰年\".format(year))\n",
    "    else:\n",
    "        print(\"{0} 是闰年\".format(year))       # 非整百年能被4整除的为闰年\n",
    "else:\n",
    "    print(\"{0} 不是闰年\".format(year))"
   ]
  },
  {
   "cell_type": "code",
   "execution_count": 3,
   "metadata": {},
   "outputs": [
    {
     "name": "stdin",
     "output_type": "stream",
     "text": [
      "请输入一个年份： 2000\n"
     ]
    },
    {
     "name": "stdout",
     "output_type": "stream",
     "text": [
      "2000是闰年\n"
     ]
    }
   ],
   "source": [
    "# 简化版的代码\n",
    "year = int(input(\"请输入一个年份：\"))\n",
    "if (year % 4) == 0 and (year % 100) != 0 or (year % 400) == 0:\n",
    "    print(\"{0}是闰年\".format(year))\n",
    "else:\n",
    "    print(\"{0}不是闰年\".format(year))"
   ]
  },
  {
   "cell_type": "markdown",
   "metadata": {},
   "source": [
    "## 循环"
   ]
  },
  {
   "cell_type": "markdown",
   "metadata": {},
   "source": [
    "***`for` 循环的语法：***\n",
    "``` python\n",
    "for 变量 in 列表 :\n",
    "    pass          \n",
    "```"
   ]
  },
  {
   "cell_type": "markdown",
   "metadata": {},
   "source": [
    "- 例：循环打印列表中的值"
   ]
  },
  {
   "cell_type": "code",
   "execution_count": 4,
   "metadata": {},
   "outputs": [
    {
     "name": "stdout",
     "output_type": "stream",
     "text": [
      "1\n",
      "3\n",
      "12.3\n",
      "apple\n",
      "0.001\n"
     ]
    }
   ],
   "source": [
    "list_3 = [1, 3, 12.3, 'apple', 0.001]\n",
    "for i in list_3:\n",
    "    print(i)"
   ]
  },
  {
   "cell_type": "markdown",
   "metadata": {},
   "source": [
    " "
   ]
  },
  {
   "cell_type": "markdown",
   "metadata": {},
   "source": [
    "***`while` 循环的语法：***\n",
    "\n",
    "**当型循环，按条件循环，当什么什么的时候，就怎么怎么样**。\n",
    "\n",
    "``` python \n",
    "while 条件 :\n",
    "    pass # 一般在这里进行某些操作，然后修改条件\n",
    "```\n"
   ]
  },
  {
   "cell_type": "markdown",
   "metadata": {},
   "source": [
    "- 例： 当i小于5时保持循环"
   ]
  },
  {
   "cell_type": "code",
   "execution_count": 5,
   "metadata": {},
   "outputs": [
    {
     "name": "stdout",
     "output_type": "stream",
     "text": [
      "0\n",
      "1\n",
      "2\n",
      "3\n",
      "4\n"
     ]
    }
   ],
   "source": [
    "i = 0\n",
    "while i<5 :\n",
    "    print(i)\n",
    "    i+=1 # 修改条件"
   ]
  },
  {
   "cell_type": "markdown",
   "metadata": {},
   "source": [
    "## 迭代"
   ]
  },
  {
   "cell_type": "markdown",
   "metadata": {},
   "source": [
    "### range 的迭代方法"
   ]
  },
  {
   "cell_type": "markdown",
   "metadata": {},
   "source": [
    "`range`方法的完整参数：  \n",
    "```\n",
    "range(start, end, step = 1)\n",
    "```\n",
    "\n",
    "如果只给定两个参数，省略step，则step默认值为1."
   ]
  },
  {
   "cell_type": "markdown",
   "metadata": {},
   "source": [
    "- 例：按步长为2从1到10进行迭代"
   ]
  },
  {
   "cell_type": "code",
   "execution_count": 7,
   "metadata": {},
   "outputs": [
    {
     "name": "stdout",
     "output_type": "stream",
     "text": [
      "1\n",
      "3\n",
      "5\n",
      "7\n",
      "9\n"
     ]
    }
   ],
   "source": [
    "for i in range(1,10,2):\n",
    "    print(i)"
   ]
  },
  {
   "cell_type": "code",
   "execution_count": 8,
   "metadata": {},
   "outputs": [
    {
     "data": {
      "text/plain": [
       "[1, 3, 5, 7, 9]"
      ]
     },
     "execution_count": 8,
     "metadata": {},
     "output_type": "execute_result"
    }
   ],
   "source": [
    "list(range(1,10,2))"
   ]
  },
  {
   "cell_type": "markdown",
   "metadata": {},
   "source": [
    "### iter 的迭代方法"
   ]
  },
  {
   "cell_type": "markdown",
   "metadata": {},
   "source": [
    "序列化的对象除了使用索引进行迭代之外，还可以使用迭代器`iter()`来实现。  \n",
    "简单讲，就是说有一个`next`方法，能一个个取出序列中的每个元素。  "
   ]
  },
  {
   "cell_type": "markdown",
   "metadata": {},
   "source": [
    "- 例：从序列对象生成一个迭代器对象，并迭代得到元素"
   ]
  },
  {
   "cell_type": "code",
   "execution_count": 9,
   "metadata": {},
   "outputs": [
    {
     "name": "stdout",
     "output_type": "stream",
     "text": [
      "[0, 1, 2, 3, 4, 5, 6, 7, 8, 9]\n",
      "0\n"
     ]
    }
   ],
   "source": [
    "ourlist = list(range(10))\n",
    "it = iter(ourlist)\n",
    "print(ourlist)\n",
    "print(next(it))"
   ]
  },
  {
   "cell_type": "code",
   "execution_count": 13,
   "metadata": {},
   "outputs": [
    {
     "data": {
      "text/plain": [
       "123"
      ]
     },
     "execution_count": 13,
     "metadata": {},
     "output_type": "execute_result"
    }
   ],
   "source": [
    "mylist = [123, 'xyz', 45.67]\n",
    "i = iter(mylist)\n",
    "next(i)"
   ]
  },
  {
   "cell_type": "code",
   "execution_count": 14,
   "metadata": {},
   "outputs": [
    {
     "data": {
      "text/plain": [
       "'xyz'"
      ]
     },
     "execution_count": 14,
     "metadata": {},
     "output_type": "execute_result"
    }
   ],
   "source": [
    "next(i)"
   ]
  },
  {
   "cell_type": "markdown",
   "metadata": {},
   "source": [
    "### zip 的迭代方法"
   ]
  },
  {
   "cell_type": "markdown",
   "metadata": {},
   "source": [
    "`zip `就是压缩的意思，它的语法如下：  \n",
    "``` python\n",
    "zip([iterable, ...]) # iterable 可迭代的 也就是序列对象 比如list tuple 等等\n",
    "```\n",
    "直接含义就是，依次从后面这些对象中分别拿一个元素出来拼成一个元组。它返回的是一个元组  "
   ]
  },
  {
   "cell_type": "code",
   "execution_count": null,
   "metadata": {},
   "outputs": [],
   "source": []
  }
 ],
 "metadata": {
  "kernelspec": {
   "display_name": "Python 3",
   "language": "python",
   "name": "python3"
  },
  "language_info": {
   "codemirror_mode": {
    "name": "ipython",
    "version": 3
   },
   "file_extension": ".py",
   "mimetype": "text/x-python",
   "name": "python",
   "nbconvert_exporter": "python",
   "pygments_lexer": "ipython3",
   "version": "3.7.6"
  }
 },
 "nbformat": 4,
 "nbformat_minor": 4
}
